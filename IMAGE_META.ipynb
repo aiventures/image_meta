{
 "cells": [
  {
   "cell_type": "markdown",
   "metadata": {},
   "source": [
    "# Showcasing IMAGE_META package\n",
    "The GPS_WRITER_SHOWCASE notbook provides numerous manipulation features for manipulating jpg Image metadata leveraging the great [EXIF Tool](https://exiftool.org/) and using open street map geo API https://nominatim.org/release-docs/develop/api/Overview/ for getting geo meta data. \n",
    "The package contains the following modules:\n",
    "\n",
    "* **geo.py** coordinate calculations, access to nominatim API for reverse geo encoding (coordinates to site plain text information), gpx file handling\n",
    "* **persistence.py** reading + writing plain + json files\n",
    "* **exif.py** exiftool interface + image metadata handling / transformation \n",
    "* **util** datetime calculations, binary search in list, ...\n",
    "\n",
    "Caveat: Mind the usage terms from Nominatim https://operations.osmfoundation.org/policies/nominatim/ ! So reverse search is only accceptable for a small amount of requests!"
   ]
  },
  {
   "cell_type": "markdown",
   "metadata": {},
   "source": [
    "## Exiftool Command Lines\n",
    "You need to install exiftool and set path variables accordingly to be able to execute it in target directory. Find some examples her, for more info check out the following sources:\n",
    "\n",
    "* **[EXIFTOOL FAQ](https://exiftool.org/faq.html 'EXIFTOOL FAQ')**\n",
    "* **[EXIFTOOL EXAMPLES](https://exiftool.org/examples.html 'EXIFTOOL EXAMPLES')**\n",
    "* **[EXIFTOOL DOCUMENTATION](https://exiftool.org/exiftool_pod.html 'EXIFTOOL DOCUMENTATION')**\n",
    "* **[EXIFTOOL GEOTAGGING](https://exiftool.org/geotag.html 'EXIFTOOL GEOTAGGING')**"
   ]
  },
  {
   "cell_type": "code",
   "execution_count": 1,
   "metadata": {},
   "outputs": [
    {
     "name": "stdout",
     "output_type": "stream",
     "text": [
      "Tübingen OSM Link -> https://www.openstreetmap.org/#map=15/48.52027/19.05361\n",
      "Reverse Search link:\n",
      "https://nominatim.openstreetmap.org/reverse?format=jsonv2&lat=48.52027&lon=19.05361&addressdetails=16&namedetails=1&extratags=1\n"
     ]
    }
   ],
   "source": [
    "# here's import of all packages required to execute below examples\n",
    "import os\n",
    "from importlib import reload\n",
    "from datetime import datetime\n",
    "import pytz\n",
    "\n",
    "import image_meta\n",
    "import image_meta.persistence\n",
    "import image_meta.util\n",
    "import image_meta.geo\n",
    "reload(image_meta)\n",
    "reload(image_meta.persistence)\n",
    "reload(image_meta.util)\n",
    "reload(image_meta.geo)\n",
    "\n",
    "# Import classes\n",
    "from image_meta.persistence import Persistence as P\n",
    "from image_meta.util import Util as U\n",
    "from image_meta.geo import Geo as G\n",
    "from image_meta.exif import ExifTool as E\n",
    "\n",
    "# Sample Data\n",
    "coords = {\"Stuttgart\":{\"lat\":48.7835,\"lon\":9.1850},\n",
    "          \"Tübingen\":{\"lat\":48.52027,\"lon\":19.05361}}\n",
    "lat,lon = list(coords[\"Tübingen\"].values())\n",
    "# OSM Link can be constructed like\n",
    "print(f\"Tübingen OSM Link -> https://www.openstreetmap.org/#map=15/{lat}/{lon}\")\n",
    "print(\"Reverse Search link:\")\n",
    "# Reverse Search url for this link is (click to see the data)\n",
    "print(f\"\"\"https://nominatim.openstreetmap.org/reverse?format=jsonv2&lat={lat}\\\n",
    "&lon={lon}&addressdetails=16&namedetails=1&extratags=1\"\"\")\n",
    "# timezone\n",
    "tz_local = pytz.timezone(\"Europe/Berlin\")\n",
    "tz_utc = pytz.timezone(\"UTC\")"
   ]
  },
  {
   "cell_type": "code",
   "execution_count": 2,
   "metadata": {},
   "outputs": [],
   "source": [
    "## Exiftool Command Line Examples"
   ]
  },
  {
   "cell_type": "code",
   "execution_count": 3,
   "metadata": {},
   "outputs": [
    {
     "name": "stdout",
     "output_type": "stream",
     "text": [
      "--- Output of all EXIF subsegment metadata Containing date information ---\n",
      "[EXIF]          ModifyDate                      : 2016:05:25 12:47:47\n",
      "[EXIF]          DateTimeOriginal                : 2016:05:19 14:18:15\n",
      "[EXIF]          CreateDate                      : 2016:05:19 14:18:15\n",
      "--- Same Data as json ---\n",
      "[{\n",
      "  \"SourceFile\": \"C:/30_Entwicklung/WORK_JUPYTER/2020_EXIF_GPS_WRITER/samples/test.jpg\",\n",
      "  \"EXIF:ModifyDate\": \"2016:05:25 12:47:47\",\n",
      "  \"EXIF:DateTimeOriginal\": \"2016:05:19 14:18:15\",\n",
      "  \"EXIF:CreateDate\": \"2016:05:19 14:18:15\"\n",
      "}]\n",
      "--- Output into json file (in samples folder ) ---\n",
      "reading from json into dict:\n",
      "[{'SourceFile': 'C:/30_Entwicklung/WORK_JUPYTER/2020_EXIF_GPS_WRITER/samples/test.jpg', 'EXIF:ModifyDate': '2016:05:25 12:47:47', 'EXIF:DateTimeOriginal': '2016:05:19 14:18:15', 'EXIF:CreateDate': '2016:05:19 14:18:15'}]\n"
     ]
    }
   ],
   "source": [
    "import os\n",
    "\n",
    "curr_path = os.path.abspath(os.getcwd())\n",
    "#get test.jpg samples in samples subdirectory\n",
    "sample_file = os.path.join(curr_path, \"samples\",\"test.jpg\")\n",
    "sample_json = os.path.join(curr_path, \"samples\",\"test.json\")\n",
    "if os.path.isfile(sample_file):\n",
    "    # exiftool needs to be installed and available at command line in work dir\n",
    "    print(\"--- Output of all EXIF subsegment metadata Containing date information ---\")\n",
    "    !exiftool -G -s -exif:*date* {sample_file}\n",
    "    print(\"--- Same Data as json ---\") \n",
    "    !exiftool -G -s -j -exif:*date* {sample_file}\n",
    "    print(\"--- Output into json file (in samples folder ) ---\")\n",
    "    !exiftool -G -s -j -exif:*date* {sample_file} > {sample_json}\n",
    "    #now we can read the json into dict\n",
    "    print(\"reading from json into dict:\")\n",
    "    metadata_dict = P.read_json(sample_json)\n",
    "    print(metadata_dict)"
   ]
  },
  {
   "cell_type": "markdown",
   "metadata": {},
   "source": [
    "# Geo Module"
   ]
  },
  {
   "cell_type": "code",
   "execution_count": 4,
   "metadata": {},
   "outputs": [
    {
     "data": {
      "text/plain": [
       "(1377.5860144550647, 3988.6725545919794, 4773.09009186109)"
      ]
     },
     "execution_count": 4,
     "metadata": {},
     "output_type": "execute_result"
    }
   ],
   "source": [
    "# convert lat lon into cartesian (X,Y,Z) coordinates\n",
    "c1 = list(coords[\"Tübingen\"].values())\n",
    "G.latlon2cartesian(c1)"
   ]
  },
  {
   "cell_type": "code",
   "execution_count": 5,
   "metadata": {
    "scrolled": true
   },
   "outputs": [
    {
     "name": "stdout",
     "output_type": "stream",
     "text": [
      "Arc Distance: 725.0202527688491 Distance: 724.6290934699693  Difference: 0.39115929887975653\n",
      "Delta Coordinates (X,Y,Z): [707.5071314006651, -155.39330286324957, -19.336585674878734] \n",
      " Distance: 725.0202527688491\n"
     ]
    },
    {
     "data": {
      "text/plain": [
       "725.0202527688491"
      ]
     },
     "execution_count": 5,
     "metadata": {},
     "output_type": "execute_result"
    }
   ],
   "source": [
    "# calculate the distance of two coordinates (to initialize data, run the first cell above)\n",
    "c1 = list(coords[\"Tübingen\"].values())\n",
    "c2 = list(coords[\"Stuttgart\"].values())\n",
    "G.get_distance(c1,c2,debug=True)"
   ]
  },
  {
   "cell_type": "markdown",
   "metadata": {},
   "source": [
    "# Utils Module"
   ]
  },
  {
   "cell_type": "markdown",
   "metadata": {},
   "source": [
    "### Datetime Conversion"
   ]
  },
  {
   "cell_type": "code",
   "execution_count": 6,
   "metadata": {},
   "outputs": [
    {
     "name": "stdout",
     "output_type": "stream",
     "text": [
      "Now DateTime 2020-06-17 23:27:42.130186 -> Now String: 2020-06-17T23:27:42Z -> UTC Timestamp 1592436462\n",
      "Timestamp -> Datetime UTC 2020-06-17 23:27:42+00:00  -> Datetime Local 2020-06-18 01:27:42+02:00\n",
      "UTC Offset 2:00:00  Timezone Europe/Berlin\n"
     ]
    }
   ],
   "source": [
    "# get UTC Timestamp from Date String conforming to format ####-##-##T##:##:##Z / (+/-)##:##  \n",
    "now = datetime.now()\n",
    "now_s = now.strftime(\"%Y-%m-%dT%H:%M:%SZ\")\n",
    "now_ts = U.get_timestamp(now_s)\n",
    "print(f\"Now DateTime {now} -> Now String: {now_s} -> UTC Timestamp {now_ts}\")\n",
    "#convert back from timestamp\n",
    "utc_dt = tz_utc.localize(datetime.utcfromtimestamp(now_ts))\n",
    "cet_dt = utc_dt.astimezone(tz_local)\n",
    "print(\"Timestamp -> Datetime UTC\",utc_dt,\" -> Datetime Local\",cet_dt)\n",
    "print(\"UTC Offset\",cet_dt.utcoffset(),\" Timezone\",cet_dt.tzinfo)"
   ]
  },
  {
   "cell_type": "markdown",
   "metadata": {},
   "source": [
    "# Exif Module"
   ]
  },
  {
   "cell_type": "markdown",
   "metadata": {},
   "source": [
    "### Metadata Hierarchy\n",
    "In photo management programs you often can maintain tags as hierarchies and export them as text file. In this file, a hierarchy level is represented as tab character. From this, you can construct hierarchical meta tags (stored as XMP:HierarchicalSubject in image metadata). The following method will read a hierarchy metadata file and put them into a dict with the \"leaf\" tag as dict key. This way, you can maintain a hierarchy and automaticall get the hierachical meta tag by just maintaining the hierarchy in a text file.   "
   ]
  },
  {
   "cell_type": "code",
   "execution_count": 7,
   "metadata": {},
   "outputs": [
    {
     "name": "stdout",
     "output_type": "stream",
     "text": [
      "-----------HIERARCHY-------------\n",
      "Architektur\n",
      "\tAnlagen\n",
      "\t\tBaustelle\n",
      "\t\tBrücke\n",
      "\tGebäude\n",
      "\t\tBücherei\n",
      "\t\tRuine\n",
      "\t\t\tRömer\n",
      "\tGebäudedetail\n",
      "\t\tDenkmal\n",
      "\t\tGrabstein\n",
      "\tInnenraum\n",
      "\t\tZimmer\n",
      "Mood\n",
      "\tBlurry\n",
      "\tCold\n",
      "\tColorful\n",
      "\tTranquil\n",
      "Zeiten\n",
      "\tTageszeiten\n",
      "\t\tAbend\n",
      "\t\tMittag\n",
      "\t\tMorgen\n",
      "\t\tNacht\n",
      "-----------OUTPUT-------------\n",
      "{'Architektur': 'Architektur', 'Anlagen': 'Architektur|Anlagen', 'Baustelle': 'Architektur|Anlagen|Baustelle', 'Brücke': 'Architektur|Anlagen|Brücke', 'Gebäude': 'Architektur|Gebäude', 'Bücherei': 'Architektur|Gebäude|Bücherei', 'Ruine': 'Architektur|Gebäude|Ruine', 'Römer': 'Architektur|Gebäude|Ruine|Römer', 'Gebäudedetail': 'Architektur|Gebäudedetail', 'Denkmal': 'Architektur|Gebäudedetail|Denkmal', 'Grabstein': 'Architektur|Gebäudedetail|Grabstein', 'Innenraum': 'Architektur|Innenraum', 'Zimmer': 'Architektur|Innenraum|Zimmer', 'Mood': 'Mood', 'Blurry': 'Mood|Blurry', 'Cold': 'Mood|Cold', 'Colorful': 'Mood|Colorful', 'Tranquil': 'Mood|Tranquil', 'Zeiten': 'Zeiten', 'Tageszeiten': 'Zeiten|Tageszeiten', 'Abend': 'Zeiten|Tageszeiten|Abend', 'Mittag': 'Zeiten|Tageszeiten|Mittag', 'Morgen': 'Zeiten|Tageszeiten|Morgen', 'Nacht': 'Zeiten|Tageszeiten|Nacht'}\n",
      "-----------Example-------------\n",
      "Tag <Abend> has hierarchical attribute <Zeiten|Tageszeiten|Abend>\n"
     ]
    }
   ],
   "source": [
    "# read the meta file (needs to be UTF8)\n",
    "curr_path = os.path.abspath(os.getcwd())\n",
    "#get test hierarchy samples in samples subdirectory\n",
    "sample_hier = os.path.join(curr_path, \"samples\",\"test_hier.txt\")\n",
    "if not os.path.isfile(sample_hier):\n",
    "    print(\"{sample_hier} NOT FOUND\")\n",
    "    exit\n",
    "    \n",
    "lines = P.read_file(sample_hier)\n",
    "print(\"-----------HIERARCHY-------------\")\n",
    "for line in lines:\n",
    "    print(line.strip('\\n'))\n",
    "print(\"-----------OUTPUT-------------\")\n",
    "h_tag_dict = E.create_meta_hierarchy_tags(lines,debug=False)\n",
    "print(h_tag_dict)\n",
    "tag = \"Abend\"\n",
    "print(\"-----------Example-------------\")\n",
    "print(f\"Tag <{tag}> has hierarchical attribute <{h_tag_dict[tag]}>\")"
   ]
  },
  {
   "cell_type": "markdown",
   "metadata": {},
   "source": [
    "### Process Images with Exiftool\n",
    "In Class `ExifTool` executable will be triggered by `execute` method receiving control parameters and file list. In the constructor the image folder and the path to the Exiftool executable needs to be supplied. \n",
    "Convenience wrapper methods for handling metadata are supplied and described here. "
   ]
  },
  {
   "cell_type": "code",
   "execution_count": null,
   "metadata": {},
   "outputs": [],
   "source": [
    "curr_path = os.path.abspath(os.getcwd())\n",
    "sample_jpg = os.path.join(curr_path, \"samples\",\"test.jpg\")\n",
    "exif_tool_path = r\"C:\\<pathto>\\EXIFTOOL\" #file path for exiftool eg r\"c:\\Tools\\Exif\\exiftool.exe\n",
    "exif_tool_loc = os.path.join(exif_tool_path,\"exiftool.exe\")\n",
    "print(\"Exiftool: \",exif_tool)\n",
    "\n",
    "if not os.path.isfile(exif_tool_loc):\n",
    "    print(\"EXIFTOOL NOT FOUND\")\n",
    "    exit\n",
    "\n",
    "if not os.path.isfile(sample_jpg):\n",
    "    print(f\"file {sample_jpg} NOT FOUND\")\n",
    "    exit\n",
    "\n",
    "# important: needs to be handled with with    \n",
    "with E(exif_tool_loc) as exiftool:\n",
    "    #collects data of several files in one dictionary\n",
    "    meta_dict = exiftool.get_metadata(sample_jpg)\n",
    "\n",
    "file_list = meta_dict.keys()\n",
    "\n",
    "for jpg_file in file_list:\n",
    "    print(f\"--- File {jpg_file} ---\")    \n",
    "    meta_list = meta_dict[jpg_file]\n",
    "    for meta in meta_list:\n",
    "        print(f\"[{meta}] ->  {meta_list[meta]}\")            "
   ]
  }
 ],
 "metadata": {
  "kernelspec": {
   "display_name": "Python [conda env:MiniConda3]",
   "language": "python",
   "name": "conda-env-MiniConda3-py"
  },
  "language_info": {
   "codemirror_mode": {
    "name": "ipython",
    "version": 3
   },
   "file_extension": ".py",
   "mimetype": "text/x-python",
   "name": "python",
   "nbconvert_exporter": "python",
   "pygments_lexer": "ipython3",
   "version": "3.6.6"
  }
 },
 "nbformat": 4,
 "nbformat_minor": 2
}
