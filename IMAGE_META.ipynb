{
 "cells": [
  {
   "cell_type": "markdown",
   "metadata": {},
   "source": [
    "# The IMAGE_META module Elevator Pitch\n",
    "\n",
    "**_I am a photographer who is tired of maintaining image metadata (EXIF, ITPC, ...) in various tools, especially normal tags and geo coordinates and geo reverse tags like location, city, ... and so on._**\n",
    "\n",
    "**_This Python module provides a command line level solution to this problem by using exiftool to write data into jpg images._**\n",
    "\n",
    "# Showcasing IMAGE_META package\n",
    "The GPS_WRITER_SHOWCASE notbook provides numerous manipulation features for manipulating jpg Image metadata leveraging the great [EXIF Tool](https://exiftool.org/) and using open street map geo API https://nominatim.org/release-docs/develop/api/Overview/ for getting geo meta data.\n",
    "\n",
    "To get more information on IPTC-IIM metadata (International Press Telecommunications Council-Information Interchange Model) check out the following documentation sources: https://www.iptc.org/std/photometadata/documentation/\n",
    "\n",
    "The package contains the following modules:\n",
    "\n",
    "* **geo.py** coordinate calculations, access to nominatim API for reverse geo encoding (coordinates to site plain text information), gpx file handling\n",
    "* **persistence.py** reading + writing plain + json files\n",
    "* **exif.py** exiftool interface + image metadata handling / transformation \n",
    "* **util** datetime calculations, binary search in list, ...\n",
    "\n",
    "Caveat: Mind the usage terms from Nominatim https://operations.osmfoundation.org/policies/nominatim/ ! So reverse search is only accceptable for a small amount of requests!"
   ]
  },
  {
   "cell_type": "markdown",
   "metadata": {},
   "source": [
    "## Exiftool Command Lines\n",
    "You need to install exiftool and set path variables accordingly to be able to execute it in target directory. Find some examples her, for more info check out the following sources:\n",
    "\n",
    "* **[EXIFTOOL FAQ](https://exiftool.org/faq.html 'EXIFTOOL FAQ')**\n",
    "* **[EXIFTOOL EXAMPLES](https://exiftool.org/examples.html 'EXIFTOOL EXAMPLES')**\n",
    "* **[EXIFTOOL DOCUMENTATION](https://exiftool.org/exiftool_pod.html 'EXIFTOOL DOCUMENTATION')**\n",
    "* **[EXIFTOOL GEOTAGGING](https://exiftool.org/geotag.html 'EXIFTOOL GEOTAGGING')**"
   ]
  },
  {
   "cell_type": "code",
   "execution_count": 1,
   "metadata": {},
   "outputs": [
    {
     "name": "stdout",
     "output_type": "stream",
     "text": [
      "Tübingen OSM Link -> https://www.openstreetmap.org/#map=15/48.52027/9.05361\n",
      "Reverse Search link:\n",
      "https://nominatim.openstreetmap.org/reverse?format=jsonv2&lat=48.52027&lon=9.05361&addressdetails=16&namedetails=1&extratags=1\n",
      "Reading config File: C:\\30_Entwicklung\\WORK_JUPYTER\\root\\image_meta\\config.json\n",
      "Configuration Data: {'exiftool': 'C:\\\\20_Bildbearbeitung\\\\EXIFTOOL\\\\exiftool.exe'}\n"
     ]
    }
   ],
   "source": [
    "# here's import of all packages required to execute below examples\n",
    "import os\n",
    "from importlib import reload\n",
    "from datetime import datetime\n",
    "from datetime import timedelta\n",
    "import pytz\n",
    "\n",
    "import image_meta\n",
    "import image_meta.persistence\n",
    "import image_meta.util\n",
    "import image_meta.geo\n",
    "reload(image_meta)\n",
    "reload(image_meta.persistence)\n",
    "reload(image_meta.util)\n",
    "reload(image_meta.geo)\n",
    "\n",
    "# Import classes\n",
    "from image_meta.persistence import Persistence as P\n",
    "from image_meta.util import Util as U\n",
    "from image_meta.geo import Geo as G\n",
    "from image_meta.exif import ExifTool as E\n",
    "\n",
    "# Sample Data\n",
    "coords = {\"Stuttgart\":{\"lat\":48.7835,\"lon\":9.1850},\n",
    "          \"Tübingen\":{\"lat\":48.52027,\"lon\":9.05361}}\n",
    "lat,lon = list(coords[\"Tübingen\"].values())\n",
    "# OSM Link can be constructed like\n",
    "print(f\"Tübingen OSM Link -> https://www.openstreetmap.org/#map=15/{lat}/{lon}\")\n",
    "print(\"Reverse Search link:\")\n",
    "# Reverse Search url for this link is (click to see the data)\n",
    "print(f\"\"\"https://nominatim.openstreetmap.org/reverse?format=jsonv2&lat={lat}\\\n",
    "&lon={lon}&addressdetails=16&namedetails=1&extratags=1\"\"\")\n",
    "# timezone\n",
    "tz_local = pytz.timezone(\"Europe/Berlin\")\n",
    "tz_utc = pytz.timezone(\"UTC\")\n",
    "\n",
    "# Reading configuration data (modify config.json to your own environment)\n",
    "curr_path = os.path.abspath(os.getcwd())\n",
    "config_path = os.path.join(curr_path,\"config.json\")\n",
    "print(f\"Reading config File: {config_path}\")\n",
    "config = P.read_json(config_path)\n",
    "print(\"Configuration Data:\",config)\n",
    "exiftool_path = config[\"exiftool\"]"
   ]
  },
  {
   "cell_type": "code",
   "execution_count": 2,
   "metadata": {},
   "outputs": [],
   "source": [
    "## Exiftool Command Line Examples"
   ]
  },
  {
   "cell_type": "code",
   "execution_count": 2,
   "metadata": {},
   "outputs": [
    {
     "name": "stdout",
     "output_type": "stream",
     "text": [
      "Current Path C:\\30_Entwicklung\\WORK_JUPYTER\\root\\image_meta\n",
      "--- Output of all EXIF subsegment metadata Containing date information ---\n",
      "[EXIF]          ModifyDate                      : 2020:01:03 12:47:33\n",
      "[EXIF]          DateTimeOriginal                : 2020:01:03 12:47:33\n",
      "[EXIF]          CreateDate                      : 2020:01:03 12:47:33\n",
      "[EXIF]          GPSDateStamp                    : 2020:01:03\n",
      "--- Same Data as json ---\n",
      "[{\n",
      "  \"SourceFile\": \"C:/30_Entwicklung/WORK_JUPYTER/root/image_meta/samples/img_test.jpg\",\n",
      "  \"EXIF:ModifyDate\": \"2020:01:03 12:47:33\",\n",
      "  \"EXIF:DateTimeOriginal\": \"2020:01:03 12:47:33\",\n",
      "  \"EXIF:CreateDate\": \"2020:01:03 12:47:33\",\n",
      "  \"EXIF:GPSDateStamp\": \"2020:01:03\"\n",
      "}]\n",
      "--- Same Data as json / Short Version without groups ---\n",
      "[{\n",
      "  \"SourceFile\": \"C:/30_Entwicklung/WORK_JUPYTER/root/image_meta/samples/img_test.jpg\",\n",
      "  \"ModifyDate\": \"2020:01:03 12:47:33\",\n",
      "  \"DateTimeOriginal\": \"2020:01:03 12:47:33\",\n",
      "  \"CreateDate\": \"2020:01:03 12:47:33\",\n",
      "  \"GPSDateStamp\": \"2020:01:03\"\n",
      "}]\n",
      "--- Output into json file (in samples folder ) ---\n",
      "reading from json into dict:\n",
      "[{'SourceFile': 'C:/30_Entwicklung/WORK_JUPYTER/root/image_meta/samples/img_test.jpg', 'EXIF:ModifyDate': '2020:01:03 12:47:33', 'EXIF:DateTimeOriginal': '2020:01:03 12:47:33', 'EXIF:CreateDate': '2020:01:03 12:47:33', 'EXIF:GPSDateStamp': '2020:01:03'}]\n"
     ]
    }
   ],
   "source": [
    "import os\n",
    "\n",
    "curr_path = os.path.abspath(os.getcwd())\n",
    "print(f\"Current Path {curr_path}\")\n",
    "#get test.jpg samples in samples subdirectory\n",
    "sample_file = os.path.join(curr_path, \"samples\",\"img_test.jpg\")\n",
    "sample_json = os.path.join(curr_path, \"samples\",\"img_test.json\")\n",
    "if os.path.isfile(sample_file):\n",
    "    # exiftool needs to be installed and available at command line in work dir\n",
    "    print(\"--- Output of all EXIF subsegment metadata Containing date information ---\")\n",
    "    !exiftool -G -s -exif:*date* {sample_file}\n",
    "    print(\"--- Same Data as json ---\") \n",
    "    !exiftool -G -s -j -exif:*date* {sample_file}\n",
    "    print(\"--- Same Data as json / Short Version without groups ---\") \n",
    "    !exiftool -s -j -exif:*date* {sample_file}        \n",
    "    print(\"--- Output into json file (in samples folder ) ---\")\n",
    "    !exiftool -G -s -j -exif:*date* {sample_file} > {sample_json}\n",
    "    #now we can read the json into dict\n",
    "    print(\"reading from json into dict:\")\n",
    "    metadata_dict = P.read_json(sample_json)\n",
    "    print(metadata_dict)"
   ]
  },
  {
   "cell_type": "markdown",
   "metadata": {},
   "source": [
    "# Persistence Module\n",
    "Operations for saving / loading / copying data in various formats (txt, json, gpx xml format)"
   ]
  },
  {
   "cell_type": "markdown",
   "metadata": {},
   "source": [
    "### Copy Files"
   ]
  },
  {
   "cell_type": "code",
   "execution_count": 3,
   "metadata": {},
   "outputs": [
    {
     "name": "stdout",
     "output_type": "stream",
     "text": [
      "--- Copying Files ---\n"
     ]
    },
    {
     "data": {
      "text/plain": [
       "['C:\\\\30_Entwicklung\\\\WORK_JUPYTER\\\\root\\\\image_meta\\\\work\\\\hier.txt',\n",
       " 'C:\\\\30_Entwicklung\\\\WORK_JUPYTER\\\\root\\\\image_meta\\\\work\\\\IMG_20200615_114528792.jpg',\n",
       " 'C:\\\\30_Entwicklung\\\\WORK_JUPYTER\\\\root\\\\image_meta\\\\work\\\\IMG_20200615_114528792_NO_META.jpg',\n",
       " 'C:\\\\30_Entwicklung\\\\WORK_JUPYTER\\\\root\\\\image_meta\\\\work\\\\IMG_20200615_115045984.jpg',\n",
       " 'C:\\\\30_Entwicklung\\\\WORK_JUPYTER\\\\root\\\\image_meta\\\\work\\\\IMG_20200615_115045984_NO_GPS.jpg',\n",
       " 'C:\\\\30_Entwicklung\\\\WORK_JUPYTER\\\\root\\\\image_meta\\\\work\\\\IMG_20200615_115733158.jpg',\n",
       " 'C:\\\\30_Entwicklung\\\\WORK_JUPYTER\\\\root\\\\image_meta\\\\work\\\\img_test.jpg',\n",
       " 'C:\\\\30_Entwicklung\\\\WORK_JUPYTER\\\\root\\\\image_meta\\\\work\\\\img_test.json',\n",
       " 'C:\\\\30_Entwicklung\\\\WORK_JUPYTER\\\\root\\\\image_meta\\\\work\\\\sample_gpx.gpx',\n",
       " 'C:\\\\30_Entwicklung\\\\WORK_JUPYTER\\\\root\\\\image_meta\\\\work\\\\test.txt',\n",
       " 'C:\\\\30_Entwicklung\\\\WORK_JUPYTER\\\\root\\\\image_meta\\\\work\\\\test_hier.txt']"
      ]
     },
     "execution_count": 3,
     "metadata": {},
     "output_type": "execute_result"
    }
   ],
   "source": [
    "# copy files from one directory to another (optional filtered by file extension)\n",
    "curr_path = os.path.abspath(os.getcwd())\n",
    "src_path = os.path.abspath(\"./samples\")\n",
    "trg_path = os.path.abspath(\"./work\")\n",
    "ext = \"\"\n",
    "copied_files = P.copy_files(src_path=src_path,trg_path=trg_path,ext=\"\")\n",
    "print(\"--- Copying Files ---\")\n",
    "copied_files"
   ]
  },
  {
   "cell_type": "markdown",
   "metadata": {},
   "source": [
    "### Read GPX files\n",
    "Read gpx xml files, also support heart rate and cadence from fitness watch. Key is UTC timestamp."
   ]
  },
  {
   "cell_type": "code",
   "execution_count": 4,
   "metadata": {},
   "outputs": [
    {
     "data": {
      "text/plain": [
       "[(1592213628,\n",
       "  '06/15/2020, 09:33:48',\n",
       "  {'lat': 49.11579390987754,\n",
       "   'lon': 8.609464969485998,\n",
       "   'ele': 158,\n",
       "   'track_name': 'Laufen',\n",
       "   'heart_rate': 134,\n",
       "   'cadence': 58}),\n",
       " (1592213629,\n",
       "  '06/15/2020, 09:33:49',\n",
       "  {'lat': 49.11579650826752,\n",
       "   'lon': 8.609447786584496,\n",
       "   'ele': 159,\n",
       "   'track_name': 'Laufen',\n",
       "   'heart_rate': 133,\n",
       "   'cadence': 57}),\n",
       " (1592213632,\n",
       "  '06/15/2020, 09:33:52',\n",
       "  {'lat': 49.115802962332964,\n",
       "   'lon': 8.609372433274984,\n",
       "   'ele': 160,\n",
       "   'track_name': 'Laufen',\n",
       "   'heart_rate': 131,\n",
       "   'cadence': 57})]"
      ]
     },
     "execution_count": 4,
     "metadata": {},
     "output_type": "execute_result"
    }
   ],
   "source": [
    "# reading gpx data from work directory\n",
    "work_path = os.path.abspath(\"./work\")\n",
    "gpx_path = os.path.join(work_path,\"sample_gpx.gpx\")\n",
    "gpx = P.read_gpx(gpx_path)\n",
    "# print the first 3 gps points\n",
    "gpx_keys = list(gpx.keys())[:3] # timestamps used as keys\n",
    "[(k,datetime.utcfromtimestamp(k).strftime(\"%m/%d/%Y, %H:%M:%S\")\n",
    "  ,gpx[k]) for k in gpx_keys]"
   ]
  },
  {
   "cell_type": "markdown",
   "metadata": {},
   "source": [
    "### Get File Paths\n",
    "The `Persistence.get_file_list(path,file_type_filter=None)` method allows you to put in a single file ref, a list of files, or a path or a list of paths or a combinaton to get the full paths of files in a list. the file type filter allows you to filter for files with only specified extensions"
   ]
  },
  {
   "cell_type": "code",
   "execution_count": 5,
   "metadata": {},
   "outputs": [
    {
     "name": "stdout",
     "output_type": "stream",
     "text": [
      "--- all files in work path ---\n",
      "['C:\\\\30_Entwicklung\\\\WORK_JUPYTER\\\\root\\\\image_meta\\\\work\\\\a.xml', 'C:\\\\30_Entwicklung\\\\WORK_JUPYTER\\\\root\\\\image_meta\\\\work\\\\args_v1.txt', 'C:\\\\30_Entwicklung\\\\WORK_JUPYTER\\\\root\\\\image_meta\\\\work\\\\hier.txt', 'C:\\\\30_Entwicklung\\\\WORK_JUPYTER\\\\root\\\\image_meta\\\\work\\\\IMG_20200615_114528792.jpg', 'C:\\\\30_Entwicklung\\\\WORK_JUPYTER\\\\root\\\\image_meta\\\\work\\\\IMG_20200615_114528792_NO_META.jpg', 'C:\\\\30_Entwicklung\\\\WORK_JUPYTER\\\\root\\\\image_meta\\\\work\\\\IMG_20200615_115045984.jpg', 'C:\\\\30_Entwicklung\\\\WORK_JUPYTER\\\\root\\\\image_meta\\\\work\\\\IMG_20200615_115045984_NO_GPS.jpg', 'C:\\\\30_Entwicklung\\\\WORK_JUPYTER\\\\root\\\\image_meta\\\\work\\\\IMG_20200615_115733158.jpg', 'C:\\\\30_Entwicklung\\\\WORK_JUPYTER\\\\root\\\\image_meta\\\\work\\\\img_test.jpg', 'C:\\\\30_Entwicklung\\\\WORK_JUPYTER\\\\root\\\\image_meta\\\\work\\\\img_test.jpg_original', 'C:\\\\30_Entwicklung\\\\WORK_JUPYTER\\\\root\\\\image_meta\\\\work\\\\img_test.json', 'C:\\\\30_Entwicklung\\\\WORK_JUPYTER\\\\root\\\\image_meta\\\\work\\\\sample_gpx.gpx', 'C:\\\\30_Entwicklung\\\\WORK_JUPYTER\\\\root\\\\image_meta\\\\work\\\\test.txt', 'C:\\\\30_Entwicklung\\\\WORK_JUPYTER\\\\root\\\\image_meta\\\\work\\\\test_hier.txt']\n",
      "\n",
      "--- only gpx ---\n",
      "['C:\\\\30_Entwicklung\\\\WORK_JUPYTER\\\\root\\\\image_meta\\\\work\\\\sample_gpx.gpx']\n",
      "\n",
      "--- only certain files ---\n",
      "['C:\\\\30_Entwicklung\\\\WORK_JUPYTER\\\\root\\\\image_meta\\\\work\\\\IMG_20200615_114528792_NO_META.jpg']\n"
     ]
    }
   ],
   "source": [
    "work_path = os.path.abspath(\"./work\")\n",
    "print(\"--- all files in work path ---\") \n",
    "print(P.get_file_list(work_path)) \n",
    "print(\"\\n--- only gpx ---\") \n",
    "print(P.get_file_list(work_path,file_type_filter=\"gpx\"))\n",
    "print(\"\\n--- only certain files ---\")\n",
    "f = [r\"C:\\30_Entwicklung\\WORK_JUPYTER\\root\\image_meta\\work\\gps.args\",\n",
    "     r\"C:\\30_Entwicklung\\WORK_JUPYTER\\root\\image_meta\\work\\IMG_20200615_114528792_NO_META.jpg\"]\n",
    "print(P.get_file_list(f))"
   ]
  },
  {
   "cell_type": "markdown",
   "metadata": {},
   "source": [
    "# Geo Module"
   ]
  },
  {
   "cell_type": "code",
   "execution_count": 6,
   "metadata": {},
   "outputs": [
    {
     "data": {
      "text/plain": [
       "(664.0316670615388, 4167.290956978763, 4773.09009186109)"
      ]
     },
     "execution_count": 6,
     "metadata": {},
     "output_type": "execute_result"
    }
   ],
   "source": [
    "# convert lat lon into cartesian (X,Y,Z) coordinates\n",
    "c1 = list(coords[\"Tübingen\"].values())\n",
    "G.latlon2cartesian(c1)"
   ]
  },
  {
   "cell_type": "code",
   "execution_count": 7,
   "metadata": {
    "scrolled": true
   },
   "outputs": [
    {
     "name": "stdout",
     "output_type": "stream",
     "text": [
      "Arc Distance: 30.820114651432576 Distance: 30.820084599239454  Difference: 3.005219312157692e-05\n",
      "Delta Coordinates (X,Y,Z): [-6.047215992860856, 23.225099523533572, -19.336585674878734] \n",
      " Distance: 30.820114651432576\n"
     ]
    },
    {
     "data": {
      "text/plain": [
       "30.820114651432576"
      ]
     },
     "execution_count": 7,
     "metadata": {},
     "output_type": "execute_result"
    }
   ],
   "source": [
    "# calculate the distance in km of two coordinates (to initialize data, run the first cell above)\n",
    "c1 = list(coords[\"Tübingen\"].values())\n",
    "c2 = list(coords[\"Stuttgart\"].values())\n",
    "G.get_distance(c1,c2,debug=True)"
   ]
  },
  {
   "cell_type": "markdown",
   "metadata": {},
   "source": [
    "# Utils Module"
   ]
  },
  {
   "cell_type": "markdown",
   "metadata": {},
   "source": [
    "### Datetime Conversion\n",
    "get_timestamp returns timestamp, assumption time string is given in UTC (needs to be converted into UTC before)"
   ]
  },
  {
   "cell_type": "code",
   "execution_count": 8,
   "metadata": {},
   "outputs": [
    {
     "name": "stdout",
     "output_type": "stream",
     "text": [
      "Now: 2020-07-08 06:27:34.939974+00:00\n",
      "Now DateTime 2020-07-08 06:27:34.939974+00:00 -> Now String: 2020-07-08T06:27:34Z -> UTC Timestamp 1594189654\n",
      "Timestamp -> Datetime UTC 2020-07-08 06:27:34+00:00  -> Datetime Local 2020-07-08 08:27:34+02:00\n",
      "UTC Offset 2:00:00  Timezone Europe/Berlin  Daylight Saving Time OFFSET 1:00:00\n"
     ]
    }
   ],
   "source": [
    "from pytz import timezone\n",
    "tz = timezone('Europe/Berlin')\n",
    "utc = timezone('UTC')\n",
    "# get UTC Timestamp from Date String conforming to format ####-##-##T##:##:##Z / (+/-)##:##  \n",
    "now = datetime.now().astimezone(utc)\n",
    "print(\"Now:\",now)\n",
    "#now = datetime(2020, 1, 17,20,10,12)\n",
    "now_s = now.strftime(\"%Y-%m-%dT%H:%M:%SZ\")\n",
    "now_ts = U.get_timestamp(now_s)\n",
    "print(f\"Now DateTime {now} -> Now String: {now_s} -> UTC Timestamp {now_ts}\")\n",
    "#convert back from timestamp\n",
    "utc_dt = tz_utc.localize(datetime.utcfromtimestamp(now_ts))\n",
    "cet_dt = utc_dt.astimezone(tz_local)\n",
    "print(\"Timestamp -> Datetime UTC\",utc_dt,\" -> Datetime Local\",cet_dt)\n",
    "print(\"UTC Offset\",cet_dt.utcoffset(),\" Timezone\",cet_dt.tzinfo,\n",
    "      \" Daylight Saving Time OFFSET\",cet_dt.tzinfo.dst(cet_dt))"
   ]
  },
  {
   "cell_type": "code",
   "execution_count": 9,
   "metadata": {
    "scrolled": true
   },
   "outputs": [
    {
     "name": "stdout",
     "output_type": "stream",
     "text": [
      "IN:2020-05:12 13:23:12, dt:2020-05-12 13:23:12+02:00, tz:Europe/Berlin utc:2:00:00, dst:1:00:00\n",
      "1589282592\n",
      "IN:2020-05-12T11:23:12Z, dt:2020-05-12 11:23:12+00:00, tz:UTC utc:0:00:00, dst:None\n",
      "1589282592\n",
      "IN:2020-05-12T11:23:12.000Z, dt:2020-05-12 11:23:12+00:00, tz:UTC utc:0:00:00, dst:None\n",
      "1589282592\n",
      "IN:2020-05-12T13:23:12+02:00, dt:2020-05-12 13:23:12+02:00, tz:UTC+02:00 utc:2:00:00, dst:None\n",
      "1589282592\n"
     ]
    }
   ],
   "source": [
    "# More examples > all same dates but differently formatted / default time Europe / Berlin \n",
    "dates = [\"2020-05:12 13:23:12\",\"2020-05-12T11:23:12Z\",\n",
    "         \"2020-05-12T11:23:12.000Z\",\"2020-05-12T13:23:12+02:00\"]\n",
    "for date_s in dates:\n",
    "    print(U.get_timestamp(date_s,debug=True))"
   ]
  },
  {
   "cell_type": "markdown",
   "metadata": {},
   "source": [
    "### Timestamp Offset\n",
    "Calculate offset when GPS time is differing from Camera time"
   ]
  },
  {
   "cell_type": "code",
   "execution_count": 10,
   "metadata": {
    "scrolled": true
   },
   "outputs": [
    {
     "name": "stdout",
     "output_type": "stream",
     "text": [
      "IN:2020-05-12T13:23:20+02:00, dt:2020-05-12 13:23:20+02:00, tz:UTC+02:00 utc:2:00:00, dst:None\n",
      "IN:2020-05:12 13:23:12, dt:2020-05-12 13:23:12+02:00, tz:Europe/Berlin utc:2:00:00, dst:1:00:00\n",
      "Camera:2020-05:12 13:23:12 GPS:2020-05-12T13:23:20+02:00 Time Offset:8\n",
      "Offset Camera - GPS is 8 seconds\n"
     ]
    }
   ],
   "source": [
    "# Different time formats as string allowed see above\n",
    "s_gps = \"2020-05-12T13:23:20+02:00\" \n",
    "s_cam = \"2020-05:12 13:23:12\"\n",
    "\n",
    "offset = U.get_time_offset(time_camera=s_cam,time_gps=s_gps,debug=True) // timedelta(seconds=1)\n",
    "print(f\"Offset Camera - GPS is {offset} seconds\")"
   ]
  },
  {
   "cell_type": "markdown",
   "metadata": {},
   "source": [
    "### Binary Approximate Search\n",
    "Find the \"floor\" element in a sorted list of numbers that comes close to passed value "
   ]
  },
  {
   "cell_type": "code",
   "execution_count": 11,
   "metadata": {},
   "outputs": [
    {
     "name": "stdout",
     "output_type": "stream",
     "text": [
      "[2, 2.2, 3.5, 5, 6, 9, 12]\n",
      "value 5 index  3  list value -> 5\n",
      "value 4 index  2  list value -> 3.5\n",
      "value 0 index  -1  list value -> 12\n",
      "value 13 index  -1  list value -> 12\n"
     ]
    }
   ],
   "source": [
    "sorted_list = sorted([5,2.2,3.5,2,6,9,12])\n",
    "print(sorted_list)\n",
    "value1 = 5\n",
    "idx1 = U.get_nearby_index(value1,sorted_list)\n",
    "print(\"value\",value1,\"index \",idx1,\" list value ->\",sorted_list[idx1])\n",
    "value1 = 4\n",
    "idx1 = U.get_nearby_index(value1,sorted_list)\n",
    "print(\"value\",value1,\"index \",idx1,\" list value ->\",sorted_list[idx1])\n",
    "value1 = 0\n",
    "idx1 = U.get_nearby_index(value1,sorted_list)\n",
    "print(\"value\",value1,\"index \",idx1,\" list value ->\",sorted_list[idx1])\n",
    "value1 = 13\n",
    "idx1 = U.get_nearby_index(value1,sorted_list)\n",
    "print(\"value\",value1,\"index \",idx1,\" list value ->\",sorted_list[idx1])"
   ]
  },
  {
   "cell_type": "code",
   "execution_count": 12,
   "metadata": {
    "scrolled": false
   },
   "outputs": [
    {
     "name": "stdout",
     "output_type": "stream",
     "text": [
      "List:  [2, 2.2, 3.5, 5, 6, 9, 12]\n",
      "List:  [5, 6, 9, 12]\n",
      "List:  [9, 12]\n",
      "List:  [9]\n",
      "List:  [9]\n",
      "List:  [9]\n",
      "value 11.5 index  5  list value -> 9\n"
     ]
    }
   ],
   "source": [
    "# here you can see how it chunks the sorted list into halfs\n",
    "value1 = 11.5\n",
    "idx1 = U.get_nearby_index(value1,sorted_list,debug=True)\n",
    "print(\"value\",value1,\"index \",idx1,\" list value ->\",sorted_list[idx1])"
   ]
  },
  {
   "cell_type": "markdown",
   "metadata": {},
   "source": [
    "# Exif Module"
   ]
  },
  {
   "cell_type": "markdown",
   "metadata": {},
   "source": [
    "### Metadata Hierarchy\n",
    "In photo management programs you often can maintain tags as hierarchies and export them as text file. In this file, a hierarchy level is represented as tab character. From this, you can construct hierarchical meta tags (stored as XMP:HierarchicalSubject in image metadata). The following method will read a hierarchy metadata file and put them into a dict with the \"leaf\" tag as dict key. This way, you can maintain a hierarchy and automaticall get the hierachical meta tag by just maintaining the hierarchy in a text file.   "
   ]
  },
  {
   "cell_type": "code",
   "execution_count": 13,
   "metadata": {},
   "outputs": [
    {
     "name": "stdout",
     "output_type": "stream",
     "text": [
      "-----------HIERARCHY-------------\n",
      "Activities\n",
      "\tRunning\n",
      "\tOutdoor\n",
      "Time\n",
      "\tSummer\n",
      "\tWinter\n",
      "Location\n",
      "\tGermany\n",
      "\t\tBaden Württemberg\n",
      "\t\t\tStuttgart\n",
      "\t\t\tTübingen\n",
      "-----------OUTPUT-------------\n",
      "{'Activities': 'Activities', 'Running': 'Activities|Running', 'Outdoor': 'Activities|Outdoor', 'Time': 'Time', 'Summer': 'Time|Summer', 'Winter': 'Time|Winter', 'Location': 'Location', 'Germany': 'Location|Germany', 'Baden Württemberg': 'Location|Germany|Baden Württemberg', 'Stuttgart': 'Location|Germany|Baden Württemberg|Stuttgart', 'Tübingen': 'Location|Germany|Baden Württemberg|Tübingen'}\n",
      "-----------Example-------------\n",
      "Tag <Tübingen> has hierarchical attribute <Location|Germany|Baden Württemberg|Tübingen>\n"
     ]
    }
   ],
   "source": [
    "# read the meta file (needs to be UTF8)\n",
    "curr_path = os.path.abspath(os.getcwd())\n",
    "#get test hierarchy samples in samples subdirectory\n",
    "sample_hier = os.path.join(curr_path, \"work\",\"test_hier.txt\")\n",
    "if not os.path.isfile(sample_hier):\n",
    "    raise Exception(f\"{sample_hier} NOT FOUND\")\n",
    "    \n",
    "lines = P.read_file(sample_hier)\n",
    "print(\"-----------HIERARCHY-------------\")\n",
    "for line in lines:\n",
    "    print(line.strip('\\n'))\n",
    "print(\"-----------OUTPUT-------------\")\n",
    "h_tag_dict = E.create_metahierarchy_from_str(lines,debug=False)\n",
    "print(h_tag_dict)\n",
    "tag = \"Tübingen\"\n",
    "print(\"-----------Example-------------\")\n",
    "print(f\"Tag <{tag}> has hierarchical attribute <{h_tag_dict[tag]}>\")"
   ]
  },
  {
   "cell_type": "markdown",
   "metadata": {},
   "source": [
    "### Process Images with Exiftool\n",
    "In Class `ExifTool` executable will be triggered by `execute` method receiving control parameters and file list. In the constructor the image folder and the path to the Exiftool executable needs to be supplied. \n",
    "Convenience wrapper methods for handling metadata are supplied and described here. "
   ]
  },
  {
   "cell_type": "code",
   "execution_count": 14,
   "metadata": {
    "scrolled": false
   },
   "outputs": [
    {
     "name": "stdout",
     "output_type": "stream",
     "text": [
      "Exiftool:  C:\\20_Bildbearbeitung\\EXIFTOOL\\exiftool.exe\n",
      "--- File C:\\30_Entwicklung\\WORK_JUPYTER\\root\\image_meta\\work\\img_test.jpg ---\n",
      "[ExifToolVersion] ->  10.02\n",
      "[FileName] ->  img_test.jpg\n",
      "[Directory] ->  C:/30_Entwicklung/WORK_JUPYTER/root/image_meta/work\n",
      "[FileSize] ->  83 kB\n",
      "[FileModifyDate] ->  2020:07:08 08:27:21+02:00\n",
      "[FileAccessDate] ->  2020:07:08 08:27:21+02:00\n",
      "[FileCreateDate] ->  2020:06:21 15:21:04+02:00\n",
      "[FilePermissions] ->  rw-rw-rw-\n",
      "[FileType] ->  JPEG\n",
      "[FileTypeExtension] ->  jpg\n",
      "[MIMEType] ->  image/jpeg\n",
      "[JFIFVersion] ->  1.01\n",
      "[ExifByteOrder] ->  Little-endian (Intel, II)\n",
      "[ImageDescription] ->  IPTC CAPTION\n",
      "[Make] ->  SONY\n",
      "[Model] ->  ILCE-6500\n",
      "[Orientation] ->  Horizontal (normal)\n",
      "[XResolution] ->  200\n",
      "[YResolution] ->  200\n",
      "[ResolutionUnit] ->  inches\n",
      "[Software] ->  DxO PhotoLab 3.1\n",
      "[ModifyDate] ->  2020:01:03 12:47:33\n",
      "[Artist] ->  IPTC BYLINE\n",
      "[YCbCrPositioning] ->  Co-sited\n",
      "[Copyright] ->  IPTC COPYRIGHT\n",
      "[ExposureTime] ->  1/13\n",
      "[FNumber] ->  9.0\n",
      "[ExposureProgram] ->  Aperture-priority AE\n",
      "[ISO] ->  250\n",
      "[SensitivityType] ->  Recommended Exposure Index\n",
      "[RecommendedExposureIndex] ->  250\n",
      "[ExifVersion] ->  0231\n",
      "[DateTimeOriginal] ->  2020:01:03 12:47:33\n",
      "[CreateDate] ->  2020:01:03 12:47:33\n",
      "[ComponentsConfiguration] ->  Y, Cb, Cr, -\n",
      "[CompressedBitsPerPixel] ->  8\n",
      "[ShutterSpeedValue] ->  1/13\n",
      "[ApertureValue] ->  9.0\n",
      "[BrightnessValue] ->  4.22421875\n",
      "[ExposureCompensation] ->  +0.7\n",
      "[MaxApertureValue] ->  4.5\n",
      "[MeteringMode] ->  Center-weighted average\n",
      "[LightSource] ->  Unknown\n",
      "[Flash] ->  Off, Did not fire\n",
      "[FocalLength] ->  31.0 mm\n",
      "[Quality] ->  RAW + JPEG\n",
      "[FlashExposureComp] ->  0\n",
      "[WhiteBalanceFineTune] ->  0\n",
      "[Rating] ->  0\n",
      "[Brightness] ->  0\n",
      "[LongExposureNoiseReduction] ->  Off\n",
      "[HighISONoiseReduction] ->  Off\n",
      "[HDR] ->  Off; Uncorrected image\n",
      "[MultiFrameNoiseReduction] ->  Off\n",
      "[PictureEffect] ->  Off\n",
      "[SoftSkinEffect] ->  Off\n",
      "[VignettingCorrection] ->  Auto\n",
      "[LateralChromaticAberration] ->  Auto\n",
      "[DistortionCorrectionSetting] ->  Auto\n",
      "[WBShiftAB_GM] ->  0 0\n",
      "[AutoPortraitFramed] ->  No\n",
      "[FlashAction] ->  Did not fire\n",
      "[FocusMode] ->  AF-S\n",
      "[AFAreaModeSetting] ->  Flexible Spot\n",
      "[FlexibleSpotPosition] ->  382 243\n",
      "[AFZoneSelected] ->  n/a\n",
      "[AFPointsUsed] ->  (none)\n",
      "[FaceInfoOffset] ->  94\n",
      "[SonyDateTime] ->  2020:01:03 12:47:33\n",
      "[SonyImageWidth] ->  6000\n",
      "[FacesDetected] ->  0\n",
      "[FaceInfoLength] ->  37\n",
      "[MetaVersion] ->  DC7303320222000\n",
      "[FlashStatus] ->  No Flash present\n",
      "[ImageCount] ->  0\n",
      "[SonyFNumber] ->  0.0\n",
      "[InternalSerialNumber] ->  00000800\n",
      "[LensMount] ->  E-mount\n",
      "[LensFormat] ->  APS-C\n",
      "[LensType2] ->  Unknown (32849)\n",
      "[LensSpecFeatures] ->  E OSS\n",
      "[ReleaseMode2] ->  Normal\n",
      "[ShotNumberSincePowerUp] ->  1\n",
      "[SequenceImageNumber] ->  1\n",
      "[SequenceFileNumber] ->  1\n",
      "[SequenceLength] ->  1 file\n",
      "[CameraOrientation] ->  Horizontal (normal)\n",
      "[Quality2] ->  RAW + JPEG\n",
      "[SonyImageHeight] ->  4000\n",
      "[ModelReleaseYear] ->  2016\n",
      "[CameraTemperature] ->  19 C\n",
      "[BatteryTemperature] ->  39.4 C\n",
      "[BatteryLevel] ->  16%\n",
      "[LensMount2] ->  E-mount\n",
      "[LensType3] ->  Unknown (32849)\n",
      "[CameraE-mountVersion] ->  1.60\n",
      "[LensE-mountVersion] ->  1.60\n",
      "[LensFirmwareVersion] ->  Ver.01\n",
      "[FileFormat] ->  Unknown (3 3 2 0)\n",
      "[SonyModelID] ->  Unknown (360)\n",
      "[CreativeStyle] ->  Standard\n",
      "[ColorTemperature] ->  Auto\n",
      "[ColorCompensationFilter] ->  0\n",
      "[SceneMode] ->  Standard\n",
      "[ZoneMatching] ->  ISO Setting Used\n",
      "[DynamicRangeOptimizer] ->  Auto\n",
      "[ImageStabilization] ->  On\n",
      "[LensType] ->  E-Mount, T-Mount, Other Lens or no lens\n",
      "[ColorMode] ->  Standard\n",
      "[LensSpec] ->  E 18-135mm F3.5-5.6 OSS\n",
      "[FullImageSize] ->  6000x4000\n",
      "[PreviewImageSize] ->  1616x1080\n",
      "[FlashLevel] ->  Normal\n",
      "[ReleaseMode] ->  Normal\n",
      "[SequenceNumber] ->  Single\n",
      "[Anti-Blur] ->  On (Shooting)\n",
      "[IntelligentAuto] ->  Off\n",
      "[WhiteBalance] ->  Auto\n",
      "[UserComment] ->  Stuttgart 2020\n",
      "[FlashpixVersion] ->  0100\n",
      "[ColorSpace] ->  sRGB\n",
      "[ExifImageWidth] ->  257\n",
      "[ExifImageHeight] ->  297\n",
      "[InteropIndex] ->  R98 - DCF basic file (sRGB)\n",
      "[InteropVersion] ->  0100\n",
      "[FileSource] ->  Digital Camera\n",
      "[SceneType] ->  Directly photographed\n",
      "[CustomRendered] ->  Normal\n",
      "[ExposureMode] ->  Auto\n",
      "[DigitalZoomRatio] ->  1\n",
      "[FocalLengthIn35mmFormat] ->  46 mm\n",
      "[SceneCaptureType] ->  Standard\n",
      "[Contrast] ->  Normal\n",
      "[Saturation] ->  Normal\n",
      "[Sharpness] ->  Normal\n",
      "[LensInfo] ->  18-135mm f/3.5-5.6\n",
      "[LensModel] ->  E 18-135mm F3.5-5.6 OSS\n",
      "[GPSVersionID] ->  2.2.0.0\n",
      "[GPSLatitudeRef] ->  North\n",
      "[GPSLongitudeRef] ->  East\n",
      "[GPSAltitudeRef] ->  Above Sea Level\n",
      "[GPSTimeStamp] ->  11:52:26\n",
      "[GPSMapDatum] ->  WGS-84\n",
      "[GPSDateStamp] ->  2020:01:03\n",
      "[PrintIMVersion] ->  0300\n",
      "[SubfileType] ->  Reduced-resolution image\n",
      "[Compression] ->  JPEG (old-style)\n",
      "[ThumbnailOffset] ->  39242\n",
      "[ThumbnailLength] ->  58660\n",
      "[CurrentIPTCDigest] ->  831314d870083e5a9bbf0848c01f143d\n",
      "[CodedCharacterSet] ->  UTF8\n",
      "[EnvelopeRecordVersion] ->  4\n",
      "[ApplicationRecordVersion] ->  4\n",
      "[ObjectName] ->  IPTC OBJECT NAME\n",
      "[Keywords] ->  ['Ausflug', 'Ereignis', 'Fototechnik', 'Jahreszeiten', 'Orte', 'Sony', 'Sony E Mount', 'Sony SEL18135 E 18-135mm f/3.5-5.6 OSS', 'Stuttgart', 'Winter', 'Württemberg', 'Zeiten']\n",
      "[DateCreated] ->  2020:01:03\n",
      "[TimeCreated] ->  12:47:33\n",
      "[By-line] ->  IPTC BYLINE\n",
      "[Headline] ->  IPTC HEADLINE\n",
      "[Credit] ->  IPTC CREDIT\n",
      "[Source] ->  IPTC SOURCE\n",
      "[CopyrightNotice] ->  IPTC COPYRIGHT\n",
      "[Caption-Abstract] ->  IPTC CAPTION\n",
      "[Writer-Editor] ->  IPTC CAPTION WRITER\n",
      "[EditStatus] ->  IPTC EDIT STATUS\n",
      "[Category] ->  AAA\n",
      "[FixtureIdentifier] ->  IPTC FICTURE ID\n",
      "[ReleaseDate] ->  2020:06:18\n",
      "[ReleaseTime] ->  22:03:32+01:00\n",
      "[SpecialInstructions] ->  IPTC SPECIAL INSTRUCTIONS\n",
      "[OriginatingProgram] ->  IPTC PROGRAM\n",
      "[By-lineTitle] ->  IPTC BYLINE TITLE\n",
      "[City] ->  IPTC CITY\n",
      "[Sub-location] ->  IPTC LOCATION\n",
      "[Province-State] ->  IPTC STATE\n",
      "[Country-PrimaryLocationCode] ->  COD\n",
      "[Country-PrimaryLocationName] ->  IPTC COUNTRY\n",
      "[OriginalTransmissionReference] ->  IPTC TRANSMISSION\n",
      "[CopyrightFlag] ->  True\n",
      "[IPTCDigest] ->  218c88dae118bfb148ea4f4a38c30dbd\n",
      "[ImageWidth] ->  257\n",
      "[ImageHeight] ->  297\n",
      "[EncodingProcess] ->  Baseline DCT, Huffman coding\n",
      "[BitsPerSample] ->  8\n",
      "[ColorComponents] ->  3\n",
      "[YCbCrSubSampling] ->  YCbCr4:2:0 (2 2)\n",
      "[Aperture] ->  9.0\n",
      "[DateTimeCreated] ->  2020:01:03 12:47:33\n",
      "[GPSAltitude] ->  244.3 m Above Sea Level\n",
      "[GPSDateTime] ->  2020:01:03 11:52:26Z\n",
      "[GPSLatitude] ->  +48.77918000\n",
      "[GPSLongitude] ->  +9.18262600\n",
      "[GPSPosition] ->  +48.77918000, +9.18262600\n",
      "[ImageSize] ->  257x297\n",
      "[LensID] ->  E 18-135mm F3.5-5.6 OSS\n",
      "[Megapixels] ->  0.076\n",
      "[ScaleFactor35efl] ->  1.5\n",
      "[ShutterSpeed] ->  1/13\n",
      "[ThumbnailImage] ->  (Binary data 58660 bytes, use -b option to extract)\n",
      "[CircleOfConfusion] ->  0.020 mm\n",
      "[FOV] ->  42.7 deg\n",
      "[FocalLength35efl] ->  31.0 mm (35 mm equivalent: 46.0 mm)\n",
      "[HyperfocalDistance] ->  5.27 m\n",
      "[LightValue] ->  8.7\n"
     ]
    }
   ],
   "source": [
    "curr_path = os.path.abspath(os.getcwd())\n",
    "sample_jpg = os.path.join(curr_path, \"work\",\"img_test.jpg\")\n",
    "exif_tool_loc = exiftool_path # define location in file config.json  \n",
    "print(\"Exiftool: \",exif_tool_loc)\n",
    "\n",
    "if not os.path.isfile(exif_tool_loc):\n",
    "    raise Exception(f\"EXIFTOOL NOT FOUND at location {exif_tool_loc}\")\n",
    "\n",
    "if not os.path.isfile(sample_jpg):\n",
    "    raise Exception(f\"file {sample_jpg} NOT FOUND\")\n",
    "\n",
    "# # important: needs to be handled via \"with\" command (-> executing \"__enter__\" method)    \n",
    "with E(exif_tool_loc) as exiftool:\n",
    "    # collects data of several files in one dictionary\n",
    "    try:\n",
    "        meta_dict = exiftool.get_metadict_from_img(sample_jpg)\n",
    "    except:\n",
    "        print(f\"error reading file {sample_jpg} check if it is there\")\n",
    "\n",
    "file_list = meta_dict.keys()\n",
    "\n",
    "for jpg_file in file_list:\n",
    "    print(f\"--- File {jpg_file} ---\")    \n",
    "    meta_list = meta_dict[jpg_file]\n",
    "    \n",
    "    for meta in meta_list:\n",
    "        print(f\"[{meta}] ->  {meta_list[meta]}\")            "
   ]
  },
  {
   "cell_type": "code",
   "execution_count": 15,
   "metadata": {},
   "outputs": [
    {
     "name": "stdout",
     "output_type": "stream",
     "text": [
      "GPS time:2020:01:03 13:51:43 Cam Time:2020:01:03 12:47:33, Offset Camera - GPS is 64 minutes\n"
     ]
    }
   ],
   "source": [
    "# exif example: calculate time offset with Utility Module\n",
    "s_gps = \"2020:01:03 13:51:43\" # time read from image\n",
    "# reading meta data, from example above\n",
    "s_cam = meta_list['CreateDate']\n",
    "offset = U.get_time_offset(time_camera=s_cam,time_gps=s_gps,debug=False) // timedelta(minutes=1)\n",
    "print(f\"GPS time:{s_gps} Cam Time:{s_cam}, Offset Camera - GPS is {offset} minutes\")"
   ]
  }
 ],
 "metadata": {
  "kernelspec": {
   "display_name": "Python [conda env:MiniConda3]",
   "language": "python",
   "name": "conda-env-MiniConda3-py"
  },
  "language_info": {
   "codemirror_mode": {
    "name": "ipython",
    "version": 3
   },
   "file_extension": ".py",
   "mimetype": "text/x-python",
   "name": "python",
   "nbconvert_exporter": "python",
   "pygments_lexer": "ipython3",
   "version": "3.6.6"
  }
 },
 "nbformat": 4,
 "nbformat_minor": 2
}
